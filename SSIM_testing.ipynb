{
  "nbformat": 4,
  "nbformat_minor": 0,
  "metadata": {
    "colab": {
      "name": "SSIM_testing.ipynb",
      "provenance": [],
      "include_colab_link": true
    },
    "kernelspec": {
      "name": "python3",
      "display_name": "Python 3"
    }
  },
  "cells": [
    {
      "cell_type": "markdown",
      "metadata": {
        "id": "view-in-github",
        "colab_type": "text"
      },
      "source": [
        "<a href=\"https://colab.research.google.com/github/mugheesahmad/Fun_testing/blob/master/SSIM_testing.ipynb\" target=\"_parent\"><img src=\"https://colab.research.google.com/assets/colab-badge.svg\" alt=\"Open In Colab\"/></a>"
      ]
    },
    {
      "cell_type": "code",
      "metadata": {
        "id": "twt1KXyleNmi",
        "colab": {
          "base_uri": "https://localhost:8080/",
          "height": 204
        },
        "outputId": "7201eac8-239b-41fe-f2de-db5075cac6e9"
      },
      "source": [
        "!wget 'https://raw.githubusercontent.com/mugheesahmad/Fun_testing/master/LR0000001.jpg' "
      ],
      "execution_count": null,
      "outputs": [
        {
          "output_type": "stream",
          "text": [
            "--2020-09-24 19:33:37--  https://raw.githubusercontent.com/mugheesahmad/Fun_testing/master/LR0000001.jpg\n",
            "Resolving raw.githubusercontent.com (raw.githubusercontent.com)... 151.101.0.133, 151.101.64.133, 151.101.128.133, ...\n",
            "Connecting to raw.githubusercontent.com (raw.githubusercontent.com)|151.101.0.133|:443... connected.\n",
            "HTTP request sent, awaiting response... 200 OK\n",
            "Length: 20518 (20K) [image/jpeg]\n",
            "Saving to: ‘LR0000001.jpg’\n",
            "\n",
            "LR0000001.jpg       100%[===================>]  20.04K  --.-KB/s    in 0.01s   \n",
            "\n",
            "2020-09-24 19:33:37 (1.99 MB/s) - ‘LR0000001.jpg’ saved [20518/20518]\n",
            "\n"
          ],
          "name": "stdout"
        }
      ]
    },
    {
      "cell_type": "code",
      "metadata": {
        "id": "kBDLSDyDc7Qj",
        "colab": {
          "base_uri": "https://localhost:8080/",
          "height": 204
        },
        "outputId": "a9f4280b-8cfb-4455-95e2-605674cf26fb"
      },
      "source": [
        "!wget 'https://raw.githubusercontent.com/mugheesahmad/Fun_testing/master/HR0000001.jpg' "
      ],
      "execution_count": null,
      "outputs": [
        {
          "output_type": "stream",
          "text": [
            "--2020-09-24 19:33:48--  https://raw.githubusercontent.com/mugheesahmad/Fun_testing/master/HR0000001.jpg\n",
            "Resolving raw.githubusercontent.com (raw.githubusercontent.com)... 151.101.0.133, 151.101.64.133, 151.101.128.133, ...\n",
            "Connecting to raw.githubusercontent.com (raw.githubusercontent.com)|151.101.0.133|:443... connected.\n",
            "HTTP request sent, awaiting response... 200 OK\n",
            "Length: 37877 (37K) [image/jpeg]\n",
            "Saving to: ‘HR0000001.jpg’\n",
            "\n",
            "\rHR0000001.jpg         0%[                    ]       0  --.-KB/s               \rHR0000001.jpg       100%[===================>]  36.99K  --.-KB/s    in 0.01s   \n",
            "\n",
            "2020-09-24 19:33:48 (2.99 MB/s) - ‘HR0000001.jpg’ saved [37877/37877]\n",
            "\n"
          ],
          "name": "stdout"
        }
      ]
    },
    {
      "cell_type": "code",
      "metadata": {
        "id": "v2w4pLkpB1eQ"
      },
      "source": [
        "import skimage"
      ],
      "execution_count": null,
      "outputs": []
    },
    {
      "cell_type": "code",
      "metadata": {
        "id": "ZYhAA2BvBo-k"
      },
      "source": [
        "from skimage.metrics import structural_similarity as ssim"
      ],
      "execution_count": null,
      "outputs": []
    },
    {
      "cell_type": "code",
      "metadata": {
        "id": "SRHWMWRKCQsr"
      },
      "source": [
        "import numpy as np\n",
        "import torch\n",
        "from PIL import Image\n",
        "from skimage.metrics import structural_similarity# as ssim"
      ],
      "execution_count": null,
      "outputs": []
    },
    {
      "cell_type": "code",
      "metadata": {
        "id": "_Sq2MppXB8_y",
        "colab": {
          "base_uri": "https://localhost:8080/",
          "height": 34
        },
        "outputId": "a28afb19-2b9d-4a11-a9cb-3e0c8245bf06"
      },
      "source": [
        "gt_uint = np.array(Image.open('/content/HR0000001.jpg'))\n",
        "lr_uint= np.array(Image.open('/content/LR0000001.jpg'))\n",
        "\n",
        "ssim(lr_uint, gt_uint, multichannel=True, gaussian_weights=True, sigma=1.5, use_sample_covariance=False, data_range=255.)"
      ],
      "execution_count": null,
      "outputs": [
        {
          "output_type": "execute_result",
          "data": {
            "text/plain": [
              "0.7577930177483913"
            ]
          },
          "metadata": {
            "tags": []
          },
          "execution_count": 19
        }
      ]
    },
    {
      "cell_type": "code",
      "metadata": {
        "id": "uyuO8Qc7DBfk",
        "colab": {
          "base_uri": "https://localhost:8080/",
          "height": 34
        },
        "outputId": "4e79bbcc-b3a3-47cd-ab01-62f1a9d48f3f"
      },
      "source": [
        "gt_double = np.array(Image.open('/content/HR0000001.jpg'),dtype = 'float32')/255.0\n",
        "lr_double = np.array(Image.open('/content/LR0000001.jpg'),dtype = 'float32')/255.0\n",
        "\n",
        "ssim(lr_double, gt_double, multichannel=True, gaussian_weights=True, sigma=1.5, use_sample_covariance=False, data_range=1.)\n"
      ],
      "execution_count": null,
      "outputs": [
        {
          "output_type": "execute_result",
          "data": {
            "text/plain": [
              "0.7577930222389057"
            ]
          },
          "metadata": {
            "tags": []
          },
          "execution_count": 20
        }
      ]
    },
    {
      "cell_type": "code",
      "metadata": {
        "id": "1Gt_VvNdDWha",
        "colab": {
          "base_uri": "https://localhost:8080/",
          "height": 34
        },
        "outputId": "5bd0ac77-4969-433b-b29f-e561c415faa4"
      },
      "source": [
        "from skimage.io import imread\n",
        "from skimage.color import rgb2gray\n",
        "\n",
        "ref_image = imread('/content/HR0000001.jpg')\n",
        "ref_image = rgb2gray(ref_image)\n",
        "impaired_image = imread('/content/LR0000001.jpg')\n",
        "impaired_image = rgb2gray(impaired_image)\n",
        "structural_similarity(ref_image, impaired_image, multichannel=True, gaussian_weights=True, sigma=1.5, use_sample_covariance=False, data_range=1.0)\n"
      ],
      "execution_count": null,
      "outputs": [
        {
          "output_type": "execute_result",
          "data": {
            "text/plain": [
              "0.789570251107564"
            ]
          },
          "metadata": {
            "tags": []
          },
          "execution_count": 21
        }
      ]
    },
    {
      "cell_type": "code",
      "metadata": {
        "id": "0gM_QDguGy8x",
        "colab": {
          "base_uri": "https://localhost:8080/",
          "height": 156
        },
        "outputId": "80a02f36-e2aa-473e-e033-8ac00f6a6390"
      },
      "source": [
        "!pip install pytorch_msssim"
      ],
      "execution_count": null,
      "outputs": [
        {
          "output_type": "stream",
          "text": [
            "Collecting pytorch_msssim\n",
            "  Downloading https://files.pythonhosted.org/packages/9d/d3/3cb0f397232cf79e1762323c3a8862e39ad53eca0bb5f6be9ccc8e7c070e/pytorch_msssim-0.2.1-py3-none-any.whl\n",
            "Requirement already satisfied: torch in /usr/local/lib/python3.6/dist-packages (from pytorch_msssim) (1.6.0+cu101)\n",
            "Requirement already satisfied: future in /usr/local/lib/python3.6/dist-packages (from torch->pytorch_msssim) (0.16.0)\n",
            "Requirement already satisfied: numpy in /usr/local/lib/python3.6/dist-packages (from torch->pytorch_msssim) (1.18.5)\n",
            "Installing collected packages: pytorch-msssim\n",
            "Successfully installed pytorch-msssim-0.2.1\n"
          ],
          "name": "stdout"
        }
      ]
    },
    {
      "cell_type": "code",
      "metadata": {
        "id": "ppYmpT7nHSvQ"
      },
      "source": [
        "from pytorch_msssim import ssim#, ms_ssim\n",
        "\n",
        "gt_uint = np.asfarray(Image.open('/content/HR0000001.jpg')) \n",
        "lr_uint= np.asfarray(Image.open('/content/LR0000001.jpg'))\n",
        "gt_double = np.asfarray(Image.open('/content/HR0000001.jpg'))/255.0\n",
        "lr_double= np.asfarray(Image.open('/content/LR0000001.jpg'))/255.0\n",
        "\n",
        "\n",
        "gt_uint = np.transpose(gt_uint, [2,0,1])\n",
        "lr_uint = np.transpose(lr_uint, [2,0,1])\n",
        "gt_double = np.transpose(gt_double, [2,0,1])\n",
        "lr_double = np.transpose(lr_double, [2,0,1])\n",
        "\n",
        "\n",
        "gt_double = torch.from_numpy(gt_double).unsqueeze(0)\n",
        "lr_double = torch.from_numpy(lr_double).unsqueeze(0)\n",
        "gt_uint = torch.from_numpy(gt_uint).unsqueeze(0)\n",
        "lr_uint = torch.from_numpy(lr_uint).unsqueeze(0)\n",
        "\n",
        "ssim_double =  ssim(lr_double,gt_double,data_range=1, size_average=True )\n",
        "ssim_uint = ssim(lr_uint,gt_uint,data_range=255, size_average=True)"
      ],
      "execution_count": null,
      "outputs": []
    },
    {
      "cell_type": "code",
      "metadata": {
        "id": "pV2NTguZa76D",
        "colab": {
          "base_uri": "https://localhost:8080/",
          "height": 34
        },
        "outputId": "4de96d20-2794-4800-dc4d-405f5bd02ef2"
      },
      "source": [
        "ssim_double , ssim_uint"
      ],
      "execution_count": null,
      "outputs": [
        {
          "output_type": "execute_result",
          "data": {
            "text/plain": [
              "(tensor(0.7578, dtype=torch.float64), tensor(0.7578, dtype=torch.float64))"
            ]
          },
          "metadata": {
            "tags": []
          },
          "execution_count": 36
        }
      ]
    },
    {
      "cell_type": "code",
      "metadata": {
        "id": "C6Uz7ZlnbuLV",
        "colab": {
          "base_uri": "https://localhost:8080/",
          "height": 102
        },
        "outputId": "08083470-0d92-4221-f551-9510a5dd4357"
      },
      "source": [
        "from __future__ import print_function\n",
        "import sys; print(sys.version)\n",
        "import platform; print(platform.platform())\n",
        "import skimage; print(\"scikit-image version: {}\".format(skimage.__version__))\n",
        "import numpy; print(\"numpy version: {}\".format(numpy.__version__))"
      ],
      "execution_count": null,
      "outputs": [
        {
          "output_type": "stream",
          "text": [
            "3.6.9 (default, Jul 17 2020, 12:50:27) \n",
            "[GCC 8.4.0]\n",
            "Linux-4.19.112+-x86_64-with-Ubuntu-18.04-bionic\n",
            "scikit-image version: 0.16.2\n",
            "numpy version: 1.18.5\n"
          ],
          "name": "stdout"
        }
      ]
    }
  ]
}